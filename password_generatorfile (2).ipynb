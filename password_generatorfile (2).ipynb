{
 "cells": [
  {
   "cell_type": "code",
   "execution_count": 8,
   "metadata": {},
   "outputs": [],
   "source": [
    "\n",
    "import string\n",
    "import random"
   ]
  },
  {
   "cell_type": "code",
   "execution_count": 9,
   "metadata": {},
   "outputs": [
    {
     "name": "stdout",
     "output_type": "stream",
     "text": [
      "Enter The Password Length::5\n",
      "&nGI!\n"
     ]
    }
   ],
   "source": [
    "\n",
    "\n",
    "def gen1():\n",
    "\n",
    "    #storing uppercase letter\n",
    "    p=string.ascii_uppercase\n",
    "    #print(p)\n",
    "    \n",
    "    #storing lowercase letter\n",
    "    q=string.ascii_lowercase\n",
    "    #print(q)\n",
    "     \n",
    "    #storing  digits 0-9\n",
    "    r=string.digits\n",
    "    #print(r)\n",
    "    \n",
    "    #printing punctutaion marks\n",
    "    s=string.punctuation\n",
    "    #print(s)\n",
    "     \n",
    "    #taking length of password from user\n",
    "    passlen1=int(input(\"Enter The Password Length::\"))\n",
    "    \n",
    "    #creating empty list\n",
    "    slist=[]\n",
    "    \n",
    "    #add all the digitd,letters,punctation in slist\n",
    "    slist.extend(list(p))\n",
    "    slist.extend(list(q))\n",
    "    slist.extend(list(r))\n",
    "    slist.extend(list(s))\n",
    "    \n",
    "    #print(slist)\n",
    "    random.shuffle(slist)\n",
    "    #generating random value between slist\n",
    "    pass1=(\"\".join(slist[0:passlen1]))\n",
    "    print(pass1)\n",
    "   \n",
    "gen1()"
   ]
  },
  {
   "cell_type": "code",
   "execution_count": null,
   "metadata": {},
   "outputs": [],
   "source": []
  },
  {
   "cell_type": "code",
   "execution_count": null,
   "metadata": {},
   "outputs": [],
   "source": []
  },
  {
   "cell_type": "code",
   "execution_count": null,
   "metadata": {},
   "outputs": [],
   "source": []
  }
 ],
 "metadata": {
  "kernelspec": {
   "display_name": "Python 3",
   "language": "python",
   "name": "python3"
  },
  "language_info": {
   "codemirror_mode": {
    "name": "ipython",
    "version": 3
   },
   "file_extension": ".py",
   "mimetype": "text/x-python",
   "name": "python",
   "nbconvert_exporter": "python",
   "pygments_lexer": "ipython3",
   "version": "3.7.6"
  }
 },
 "nbformat": 4,
 "nbformat_minor": 4
}
